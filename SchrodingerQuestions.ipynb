{
 "cells": [
  {
   "cell_type": "markdown",
   "metadata": {},
   "source": [
    "# Schr&ouml;dinger Equation\n",
    "\n",
    "## &#x1f468;&#x200d;&#x1f3eb; Purpose\n",
    "This contains questions about the Schr&ouml;dinger equation. Instructions about how to answer the various supported question types can be found in the example assignment.\n",
    "1. &#x1f3b2; Multiple-Choice Questions. (One or more answers, separated by spaces or commas.)\n",
    "2. &#x1fa99; True/False Questions. (Write True/False.)\n",
    "3. &#x1F5A9; Numerical answers requiring some calculation. (Write the numerical answer in the requested units; significant figures are not checked.)\n",
    "4. &#x1f9ee; Numerical answers requiring minimal calculation or counting. (Write the answer as a number.)\n",
    "4. &#x1f500; Matching Questions. (Write pairs sequentially.)\n",
    "\n",
    "> **Notes:**\n",
    ">- You can upload files to show your mathematical work; you can also type mathematics using Markdown.\n",
    ">- You can use the notebook as a calculator for numerical problems; but you can also just type in your answer computed offline.\n",
    ">- You may find these [sheets containing reference data and mathematical formulas/identities](https://github.com/QC-Edu/IntroQM2022/blob/master/documents/ReferenceConstantsConversionsMath.pdf) useful.\n",
    "\n",
    "\n",
    "-----\n",
    "## &#x1f4dc; Instructions\n",
    "\n",
    "Answer the following 10 questions. Remember to *always* put your answer in the indicated position and never use the bold-faced word \"Answer\" elsewhere. Other than that restriction, the rest of your notebook is yours to play with.\n"
   ]
  },
  {
   "cell_type": "markdown",
   "metadata": {},
   "source": [
    "-----\n",
    "## &#x1f501; Review\n",
    "\n",
    "**1. &#x1F5A9;** Suppose the period of a photon is $5 \\times 10^{-15} \\text{s}$. **What is its wavelength in nanometers?**\n",
    "\n",
    "**Answer:** 1499"
   ]
  },
  {
   "cell_type": "markdown",
   "metadata": {},
   "source": [
    "------\n",
    "**2. &#x1F5A9;** Suppose the period of a photon is $5 \\times 10^{-15} \\text{s}$. **What is its Energy in Joules?**\n",
    "\n",
    "**Answer:** 1.325e-19"
   ]
  },
  {
   "cell_type": "code",
   "execution_count": 1,
   "metadata": {},
   "outputs": [
    {
     "name": "stdout",
     "output_type": "stream",
     "text": [
      "The wavelength of the photon is 1.499e+03 nm.\n",
      "The energy of the photon is 1.325e-19 J!\n"
     ]
    }
   ],
   "source": [
    "import scipy\n",
    "from scipy import constants\n",
    "\n",
    "period = 5e-15             #period in seconds\n",
    "frequency = 1/period       #frequency in Hz\n",
    "Energy = constants.h*frequency  #Energy in Joules\n",
    "wavelength_m = constants.c/frequency #wavelength in meters\n",
    "wavelength_nm = wavelength_m/1e-9    #wavelength in nm\n",
    "\n",
    "print(\"The wavelength of the photon is {0:.3e} nm.\".format(wavelength_nm))\n",
    "print(\"The energy of the photon is {0:.3e} J!\".format(Energy))\n",
    "\n"
   ]
  },
  {
   "cell_type": "markdown",
   "metadata": {},
   "source": [
    "------\n",
    "\n",
    "## &#x25b6;&#xfe0f; The Schr&ouml;dinger Equation and Related Mathematics\n",
    "\n",
    "**3. &#x1f9ee;** Suppose the complex number $z = 2 - 3i$. **What is the value of $z \\cdot z^*$?**\n",
    "\n",
    "**Answer:** 13"
   ]
  },
  {
   "cell_type": "markdown",
   "metadata": {},
   "source": [
    "---\n",
    "**4. &#x1fa99;** The Born postulate indicates that the squared-magnitude of a particle's wavefunction, $|\\psi(x)|^2$, is the probability distribution function,or probability density, for observing that particle at the specified location, $x$. **A probability density can be negative. (True/False)\n",
    "\n",
    "**Answer:** False"
   ]
  },
  {
   "cell_type": "markdown",
   "metadata": {},
   "source": [
    "----\n",
    "**5. &#x1f3b2;** Let $z$ be a complex number. Define $w$ as the product of $z$ and its complex conjugate, $w = z z^*$. **Which of the following is **always** true about $w$:** \n",
    "| | |\n",
    "|--|--|\n",
    "| A. w is an imaginary number. |D. w is a complex number. |\n",
    "| B. w is nonzero real number. |E. w is a nonnegative real number. |\n",
    "|C. w is a nonzero complex number. |F. None of the above|\n",
    "| | |\n",
    "\n",
    "**Answer:** D, E"
   ]
  },
  {
   "cell_type": "markdown",
   "metadata": {},
   "source": [
    "**Comment:** D is also true, since every nonnegative real number is a complex number."
   ]
  },
  {
   "cell_type": "markdown",
   "metadata": {},
   "source": [
    "-----\n",
    "**6. &#x1f3b2; The Hamiltonian operator corresponds to which observable property of a quantum system?**\n",
    "| | |\n",
    "|--|--|\n",
    "|A. Action | E. Momentum |\n",
    "|B. Kinetic Energy | F. De Broglie Wavelength |\n",
    "|C. Total Energy | G. Angular Momentum |\n",
    "|D. Entropy  |H. Planck Mass|\n",
    "| | |\n",
    "\n",
    "**Answer:** C\n"
   ]
  },
  {
   "cell_type": "markdown",
   "metadata": {},
   "source": [
    "----\n",
    "**7. &#x1fa99; Which of the following is the correct form of the single-particle time-dependent Schrödinger equation?**\n",
    "\n",
    "**A.** $\\;i\\hbar \\frac{\\partial^2\\psi\\left(\\vec{r}, t\\right)}{\\partial t^2} =\\frac{\\hbar^2}{2m} \\nabla^2 \\psi\\left(\\vec{r}, t\\right) + V\\left(\\vec{r}\\right) \\psi\\left(\\vec{r}, t\\right)$\n",
    "\n",
    "**B.** $\\;i\\hbar \\frac{\\partial^2\\psi\\left(\\vec{r}, t\\right)}{\\partial t^2} = -\\frac{\\hbar^2}{2m} \\nabla^2 \\psi\\left(\\vec{r}, t\\right) + V\\left(\\vec{r}\\right) \\psi\\left(\\vec{r}, t\\right)$\n",
    "\n",
    "**C.** $\\;i\\hbar \\frac{\\partial\\psi\\left(\\vec{r}, t\\right)}{\\partial t} = \\frac{\\hbar^2}{2m} \\nabla^2 \\psi\\left(\\vec{r}, t\\right) + V\\left(\\vec{r}\\right) \\psi\\left(\\vec{r}, t\\right)$\n",
    "\n",
    "**D.** $\\;i\\hbar \\frac{\\partial\\psi\\left(\\vec{r}, t\\right)}{\\partial t} = -\\frac{\\hbar^2}{2m} \\nabla^2 \\psi\\left(\\vec{r}, t\\right) + V\\left(\\vec{r}\\right) \\psi\\left(\\vec{r}, t\\right)$\n",
    "\n",
    "**E.** $\\; i\\hbar~\\psi\\left(\\vec{r}, t\\right) = \\frac{\\hbar^2}{2m} \\nabla^2 \\psi\\left(\\vec{r}, t\\right) + V\\left(\\vec{r}\\right) \\psi\\left(\\vec{r}, t\\right)$\n",
    "\n",
    "**F.** $\\; i\\hbar~\\psi\\left(\\vec{r}, t\\right) = -\\frac{\\hbar^2}{2m} \\nabla^2 \\psi\\left(\\vec{r}, t\\right) + V\\left(\\vec{r}\\right) \\psi\\left(\\vec{r}, t\\right)$\n",
    "\n",
    "**Answer:** D"
   ]
  },
  {
   "cell_type": "markdown",
   "metadata": {},
   "source": [
    "------\n",
    "**8. &#x1fa99; *Every* eigenfunction of the momentum operator is also an eigenfunction of the kinetic-energy operator. (True/False)**\n",
    "\n",
    "**Answer:** True"
   ]
  },
  {
   "cell_type": "markdown",
   "metadata": {},
   "source": [
    "$$\\hat{p} \\psi(x) = \\lambda \\psi(x) $$\n",
    "$$ \\hat{T} = \\frac{\\hat{p}^2}{2m} $$\n",
    "$$ \\hat{T} \\psi(x) = \\tfrac{1}{2m} \\hat{p} \\hat{p} \\psi(x) =  \\tfrac{1}{2m} \\hat{p} \\lambda \\psi(x) =  \\tfrac{1}{2m} \\lambda^2 \\psi(x) $$\n",
    "\n",
    "One might expect that the reverse is also true, but it's not. One might think the same argument would work for $\\hat{p} = 2m \\sqrt{\\hat{T}}$, but the square-root operator is not a function. (The square-root is multiple valued. E.g., $\\sqrt 4 = \\pm 2$.) So while some eigenfunctions of the kinetic energy operator are also eigenfunctions of the momentum operator, not all are. For example, $\\cos a x$ and $\\sin a x$ are eigenfunctions of the kinetic energy but not the momentum. The general result is that, given an operator, $\\hat{Q}$, with has eigenfunctions\n",
    "$$ \\hat{Q} \\psi_k(x) = \\theta_k \\psi_k(x) $$\n",
    "then any (analytic) function of $\\hat{Q}$, has the same eigenfunctions, and the values are:\n",
    "$$ f(\\hat{Q}) \\psi_k(x) = f(\\theta_k) \\psi_k(x) $$\n"
   ]
  },
  {
   "cell_type": "markdown",
   "metadata": {},
   "source": []
  },
  {
   "cell_type": "markdown",
   "metadata": {},
   "source": [
    "ke of electron in box\n",
    "Morse potential"
   ]
  }
 ],
 "metadata": {
  "interpreter": {
   "hash": "8867fa4a874d625ac151e80518eaa96dde9c32243951e64c9d5c087633ad9a9a"
  },
  "kernelspec": {
   "display_name": "Python 3.8.5 64-bit",
   "language": "python",
   "name": "python3"
  },
  "language_info": {
   "codemirror_mode": {
    "name": "ipython",
    "version": 3
   },
   "file_extension": ".py",
   "mimetype": "text/x-python",
   "name": "python",
   "nbconvert_exporter": "python",
   "pygments_lexer": "ipython3",
   "version": "3.8.5"
  },
  "orig_nbformat": 4
 },
 "nbformat": 4,
 "nbformat_minor": 2
}

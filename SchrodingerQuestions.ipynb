{
  "cells": [
    {
      "cell_type": "markdown",
      "metadata": {
        "id": "9qp16-Jryo7L"
      },
      "source": [
        "# Schr&ouml;dinger Equation\n",
        "\n",
        "## &#x1f468;&#x200d;&#x1f3eb; Purpose\n",
        "This contains questions about the Schr&ouml;dinger equation. Instructions about how to answer the various supported question types can be found in the example assignment.\n",
        "1. &#x1f3b2; Multiple-Choice Questions. (One or more answers, separated by spaces or commas.)\n",
        "2. &#x1fa99; True/False Questions. (Write True/False.)\n",
        "3. &#x1F5A9; Numerical answers requiring some calculation. (Write the numerical answer in the requested units; significant figures are not checked.)\n",
        "4. &#x1f9ee; Numerical answers requiring minimal calculation or counting. (Write the answer as a number.)\n",
        "4. &#x1f500; Matching Questions. (Write pairs sequentially.)\n",
        "\n",
        "> **Notes:**\n",
        ">- You can upload files to show your mathematical work; you can also type mathematics using Markdown.\n",
        ">- You can use the notebook as a calculator for numerical problems; but you can also just type in your answer computed offline.\n",
        ">- You may find these [sheets containing reference data and mathematical formulas/identities](https://github.com/QC-Edu/IntroQM2022/blob/master/documents/ReferenceConstantsConversionsMath.pdf) useful.\n",
        "\n",
        "\n",
        "-----\n",
        "## &#x1f4dc; Instructions\n",
        "\n",
        "Answer the following 10 questions. Remember to *always* put your answer in the indicated position and never use the bold-faced word \"Answer\" elsewhere. Other than that restriction, the rest of your notebook is yours to play with.\n"
      ]
    },
    {
      "cell_type": "markdown",
      "metadata": {
        "id": "0B-dc3wWyo7R"
      },
      "source": [
        "-----\n",
        "## &#x1f501; Review\n",
        "\n",
        "**1. &#x1F5A9;** Suppose the period of a photon is $5 \\times 10^{-15} \\text{s}$. **What is its wavelength in nanometers?**\n",
        "\n",
        "**Answer:** "
      ]
    },
    {
      "cell_type": "markdown",
      "metadata": {
        "id": "iA7Uz-M1yo7S"
      },
      "source": [
        "------\n",
        "**2. &#x1F5A9;** Suppose the period of a photon is $5 \\times 10^{-15} \\text{s}$. **What is its Energy in Joules?**\n",
        "\n",
        "**Answer:** "
      ]
    },
    {
      "cell_type": "markdown",
      "metadata": {
        "id": "B_d6miDCyo7S"
      },
      "source": [
        "------\n",
        "\n",
        "## &#x25b6;&#xfe0f; The Schr&ouml;dinger Equation and Related Mathematics\n",
        "\n",
        "**3. &#x1f9ee;** Suppose the complex number $z = 2 - 3i$. **What is the value of $z \\cdot z^*$?**\n",
        "\n",
        "**Answer:** "
      ]
    },
    {
      "cell_type": "markdown",
      "metadata": {
        "id": "GsWT4dmfyo7T"
      },
      "source": [
        "---\n",
        "**4. &#x1fa99;** The Born postulate indicates that the squared-magnitude of a particle's wavefunction, $|\\psi(x)|^2$, is the probability distribution function,or probability density, for observing that particle at the specified location, $x$. **A probability density can be negative. (True/False)\n",
        "\n",
        "**Answer:** "
      ]
    },
    {
      "cell_type": "markdown",
      "metadata": {
        "id": "FWJrOIHzyo7U"
      },
      "source": [
        "----\n",
        "**5. &#x1f3b2;** Let $z$ be a complex number. Define $w$ as the product of $z$ and its complex conjugate, $w = z z^*$. **Which of the following is **always** true about $w$:** \n",
        "| | |\n",
        "|--|--|\n",
        "| A. w is an imaginary number. |D. w is a complex number. |\n",
        "| B. w is nonzero real number. |E. w is a nonnegative real number. |\n",
        "|C. w is a nonzero complex number. |F. None of the above|\n",
        "| | |\n",
        "\n",
        "**Answer:** "
      ]
    },
    {
      "cell_type": "markdown",
      "metadata": {
        "id": "dhiEKnivyo7U"
      },
      "source": [
        "-----\n",
        "**6. &#x1f3b2; The Hamiltonian operator corresponds to which observable property of a quantum system?**\n",
        "| | |\n",
        "|--|--|\n",
        "|A. Action | E. Momentum |\n",
        "|B. Kinetic Energy | F. De Broglie Wavelength |\n",
        "|C. Total Energy | G. Angular Momentum |\n",
        "|D. Entropy  |H. Planck Mass|\n",
        "| | |\n",
        "\n",
        "**Answer:** \n"
      ]
    },
    {
      "cell_type": "markdown",
      "metadata": {
        "id": "1abVgGLryo7V"
      },
      "source": [
        "----\n",
        "**7. &#x1fa99; Which of the following is the correct form of the single-particle time-dependent Schrödinger equation?**\n",
        "\n",
        "**A.** $\\;i\\hbar \\frac{\\partial^2\\psi\\left(\\vec{r}, t\\right)}{\\partial t^2} =\\frac{\\hbar^2}{2m} \\nabla^2 \\psi\\left(\\vec{r}, t\\right) + V\\left(\\vec{r}\\right) \\psi\\left(\\vec{r}, t\\right)$\n",
        "\n",
        "**B.** $\\;i\\hbar \\frac{\\partial^2\\psi\\left(\\vec{r}, t\\right)}{\\partial t^2} = -\\frac{\\hbar^2}{2m} \\nabla^2 \\psi\\left(\\vec{r}, t\\right) + V\\left(\\vec{r}\\right) \\psi\\left(\\vec{r}, t\\right)$\n",
        "\n",
        "**C.** $\\;i\\hbar \\frac{\\partial\\psi\\left(\\vec{r}, t\\right)}{\\partial t} = \\frac{\\hbar^2}{2m} \\nabla^2 \\psi\\left(\\vec{r}, t\\right) + V\\left(\\vec{r}\\right) \\psi\\left(\\vec{r}, t\\right)$\n",
        "\n",
        "**D.** $\\;i\\hbar \\frac{\\partial\\psi\\left(\\vec{r}, t\\right)}{\\partial t} = -\\frac{\\hbar^2}{2m} \\nabla^2 \\psi\\left(\\vec{r}, t\\right) + V\\left(\\vec{r}\\right) \\psi\\left(\\vec{r}, t\\right)$\n",
        "\n",
        "**E.** $\\; i\\hbar~\\psi\\left(\\vec{r}, t\\right) = \\frac{\\hbar^2}{2m} \\nabla^2 \\psi\\left(\\vec{r}, t\\right) + V\\left(\\vec{r}\\right) \\psi\\left(\\vec{r}, t\\right)$\n",
        "\n",
        "**F.** $\\; i\\hbar~\\psi\\left(\\vec{r}, t\\right) = -\\frac{\\hbar^2}{2m} \\nabla^2 \\psi\\left(\\vec{r}, t\\right) + V\\left(\\vec{r}\\right) \\psi\\left(\\vec{r}, t\\right)$\n",
        "\n",
        "**Answer:** "
      ]
    },
    {
      "cell_type": "markdown",
      "metadata": {
        "id": "R4SZzK-tyo7W"
      },
      "source": [
        "------\n",
        "**8. &#x1fa99; *Every* eigenfunction of the momentum operator is also an eigenfunction of the kinetic-energy operator. (True/False)**\n",
        "\n",
        "**Answer:** "
      ]
    },
    {
      "cell_type": "markdown",
      "metadata": {
        "id": "UdAFCE_pyo7X"
      },
      "source": [
        "-----\n",
        "**9. &#x1F5A9;** Suppose that the wavefunction for an electron in one dimension is given by $\\psi(x) = \\sin \\left(\\frac{x}{10^{-9} \\text{m}} \\right)$, where it is understood that $x$ is measured in meters. **What is the kinetic energy of this electron in Joules?** \n",
        "\n",
        "**Answer:** "
      ]
    },
    {
      "cell_type": "markdown",
      "metadata": {
        "id": "JNDPYmHayo7Y"
      },
      "source": [
        "---\n",
        "**10. &#x270d;&#xfe0f; then &#x1f9ee;** The Morse potential is often used as an approximate model for the vibrations of diatomic molecules. In convenient units where $\\frac{\\hslash ^{2}}{2m}=1$, the time-independent Schr&ouml;dinger equation for a Morse oscillator can be written as:\n",
        "\n",
        "$$\n",
        "\\left(-\\frac{d^{2}}{dx^{2}}+\\lambda ^{2}\\left(e^{-2x}-2e^{-x}\\right)\\right)\\psi _{n}\\left(x\\right)=E_{n}\\psi _{n}\\left(x\\right)\n",
        "$$\n",
        "\n",
        "\n",
        "The first two eigenfunctions of the Morse oscillator are given by the following expressions (which are not normalized)\n",
        "$$\n",
        "\\begin{align}\n",
        "\\psi _{0}\\left(x\\right)&=\\exp \\left(-\\left(\\lambda -\\tfrac{1}{2}\\right)x-\\lambda e^{-x}\\right)\\\\\n",
        "\\psi _{1}\\left(x\\right)&=\\exp \\left(-\\left(\\lambda -\\tfrac{3}{2}\\right)x-\\lambda e^{-x}\\right)\\left(2\\lambda -2-2\\lambda e^{-x}\\right)\n",
        "\\end{align}\n",
        "$$  \n",
        "\n",
        "**What is the ground-state energy for the Morse oscillator if $\\lambda = \\tfrac{3}{2}$?** Use the natural unit system described in the problem description.\n",
        "\n",
        "**Answer:** "
      ]
    }
  ],
  "metadata": {
    "interpreter": {
      "hash": "8867fa4a874d625ac151e80518eaa96dde9c32243951e64c9d5c087633ad9a9a"
    },
    "kernelspec": {
      "display_name": "Python 3 (ipykernel)",
      "language": "python",
      "name": "python3"
    },
    "language_info": {
      "codemirror_mode": {
        "name": "ipython",
        "version": 3
      },
      "file_extension": ".py",
      "mimetype": "text/x-python",
      "name": "python",
      "nbconvert_exporter": "python",
      "pygments_lexer": "ipython3",
      "version": "3.9.7"
    },
    "colab": {
      "name": "SchrodingerQuestions.ipynb",
      "provenance": []
    }
  },
  "nbformat": 4,
  "nbformat_minor": 0
}